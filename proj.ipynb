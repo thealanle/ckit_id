{
 "cells": [
  {
   "cell_type": "markdown",
   "metadata": {},
   "source": [
    "# Phylogenetic Investigation and Identification of KIT Using a Hidden Markov Model\n",
    "Alan Le\n",
    "\n",
    "CS123B - Spring 2020"
   ]
  },
  {
   "cell_type": "code",
   "execution_count": 1,
   "metadata": {},
   "outputs": [
    {
     "output_type": "stream",
     "name": "stdout",
     "text": "hello world\n"
    }
   ],
   "source": [
    "msg = 'hello world'\n",
    "print(msg)"
   ]
  },
  {
   "cell_type": "markdown",
   "metadata": {},
   "source": [
    "Orthologs of *homo sapiens* KIT were collected from [NCBI](https://www.ncbi.nlm.nih.gov/gene/3815) using the Orthologs page for the gene. 313 nucleic acid sequences were downloaded and are contained in the file `input/kit_orthologs.fasta`.\n",
    "\n",
    "Next, conduct phylogenetic analysis and visualization using [ETE Toolkit](http://etetoolkit.org/)."
   ]
  },
  {
   "cell_type": "code",
   "execution_count": null,
   "metadata": {},
   "outputs": [],
   "source": []
  }
 ],
 "metadata": {
  "language_info": {
   "codemirror_mode": {
    "name": "ipython",
    "version": 3
   },
   "file_extension": ".py",
   "mimetype": "text/x-python",
   "name": "python",
   "nbconvert_exporter": "python",
   "pygments_lexer": "ipython3",
   "version": "3.7.6-final"
  },
  "orig_nbformat": 2,
  "kernelspec": {
   "name": "python3",
   "display_name": "Python 3"
  }
 },
 "nbformat": 4,
 "nbformat_minor": 2
}